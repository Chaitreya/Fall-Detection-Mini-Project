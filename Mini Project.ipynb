{
 "cells": [
  {
   "attachments": {},
   "cell_type": "markdown",
   "id": "eccb4a49",
   "metadata": {},
   "source": [
    "### Import Dependencies"
   ]
  },
  {
   "cell_type": "code",
   "execution_count": 1,
   "id": "4a7e46b2",
   "metadata": {},
   "outputs": [
    {
     "name": "stderr",
     "output_type": "stream",
     "text": [
      "WARNING:root:Limited tf.compat.v2.summary API due to missing TensorBoard installation.\n",
      "WARNING:root:Limited tf.compat.v2.summary API due to missing TensorBoard installation.\n",
      "WARNING:root:Limited tf.compat.v2.summary API due to missing TensorBoard installation.\n",
      "WARNING:root:Limited tf.summary API due to missing TensorBoard installation.\n",
      "WARNING:root:Limited tf.compat.v2.summary API due to missing TensorBoard installation.\n",
      "WARNING:root:Limited tf.compat.v2.summary API due to missing TensorBoard installation.\n",
      "WARNING:root:Limited tf.compat.v2.summary API due to missing TensorBoard installation.\n"
     ]
    }
   ],
   "source": [
    "import tensorflow as tf\n",
    "import numpy as np\n",
    "from matplotlib import pyplot as plt\n",
    "import cv2"
   ]
  },
  {
   "cell_type": "code",
   "execution_count": 2,
   "id": "ccba5456",
   "metadata": {},
   "outputs": [],
   "source": [
    "gpus = tf.config.experimental.list_physical_devices('GPU')\n",
    "for gpu in gpus:\n",
    "    tf.config.experimental.set_memory_growth(gpu,True)"
   ]
  },
  {
   "cell_type": "code",
   "execution_count": 3,
   "id": "99c50748",
   "metadata": {},
   "outputs": [
    {
     "data": {
      "text/plain": [
       "[PhysicalDevice(name='/physical_device:GPU:0', device_type='GPU')]"
      ]
     },
     "execution_count": 3,
     "metadata": {},
     "output_type": "execute_result"
    }
   ],
   "source": [
    "gpus"
   ]
  },
  {
   "attachments": {},
   "cell_type": "markdown",
   "id": "40a1f529",
   "metadata": {},
   "source": [
    "## Draw Keypoints"
   ]
  },
  {
   "cell_type": "code",
   "execution_count": 4,
   "id": "bd94abbd",
   "metadata": {},
   "outputs": [],
   "source": [
    "def draw_keypoints(frame, keypoints, confidence_threshold):\n",
    "    y, x, c = frame.shape\n",
    "    shaped = np.squeeze(np.multiply(keypoints, [y,x,1]))\n",
    "    \n",
    "    \n",
    "    for kp in shaped:\n",
    "        ky,kx , kp_conf = kp\n",
    "        if kp_conf > confidence_threshold:\n",
    "            cv2.circle(frame, (int(kx),int(ky)),4,(0,255,0),-1)"
   ]
  },
  {
   "attachments": {},
   "cell_type": "markdown",
   "id": "82d441bd",
   "metadata": {},
   "source": [
    "## Draw Edges"
   ]
  },
  {
   "cell_type": "code",
   "execution_count": 5,
   "id": "26249450",
   "metadata": {},
   "outputs": [],
   "source": [
    "EDGES = {\n",
    "    (0, 1): 'm',\n",
    "    (0, 2): 'c',\n",
    "    (1, 3): 'm',\n",
    "    (2, 4): 'c',\n",
    "    (0, 5): 'm',\n",
    "    (0, 6): 'c',\n",
    "    (5, 7): 'm',\n",
    "    (7, 9): 'm',\n",
    "    (6, 8): 'c',\n",
    "    (8, 10): 'c',\n",
    "    (5, 6): 'y',\n",
    "    (5, 11): 'm',\n",
    "    (6, 12): 'c',\n",
    "    (11, 12): 'y',\n",
    "    (11, 13): 'm',\n",
    "    (13, 15): 'm',\n",
    "    (12, 14): 'c',\n",
    "    (14, 16): 'c'\n",
    "}"
   ]
  },
  {
   "cell_type": "code",
   "execution_count": 6,
   "id": "74817afe",
   "metadata": {},
   "outputs": [],
   "source": [
    "def draw_connections(frame,keypoints,edges, confidence_threshold):\n",
    "    y, x, c = frame.shape\n",
    "    shaped = np.squeeze(np.multiply(keypoints, [y,x,1]))\n",
    "    \n",
    "    for edge, color in edges.items():\n",
    "        p1,p2 = edge\n",
    "        y1,x1,c1 = shaped[p1]\n",
    "        y2,x2,c2 = shaped[p2]\n",
    "        \n",
    "        if (c1 > confidence_threshold) & (c2>confidence_threshold):\n",
    "            cv2.line(frame, (int(x1),int(y1)),(int(x2),int(y2)),(255,0,0),2)"
   ]
  },
  {
   "attachments": {},
   "cell_type": "markdown",
   "id": "2454938f",
   "metadata": {},
   "source": [
    "### Load Model"
   ]
  },
  {
   "cell_type": "code",
   "execution_count": 7,
   "id": "4d695ea0",
   "metadata": {},
   "outputs": [],
   "source": [
    "interpreter = tf.lite.Interpreter(model_path='lite-model_movenet_singlepose_thunder_3.tflite')\n",
    "interpreter.allocate_tensors()"
   ]
  },
  {
   "cell_type": "code",
   "execution_count": 9,
   "id": "72f623c6",
   "metadata": {},
   "outputs": [
    {
     "name": "stdout",
     "output_type": "stream",
     "text": [
      "(0.94034445, 0.7409552)\n",
      "Velocity X:  0.043902319872212235\n",
      "Velocity y:  -0.08979477422677033\n",
      "(0.9287611, 0.72762835)\n",
      "Velocity X:  -0.1011262846382873\n",
      "Velocity y:  -0.1163475763801907\n",
      "(0.9330026, 0.7421926)\n",
      "Velocity X:  0.04300599769731497\n",
      "Velocity y:  0.1476732648305722\n",
      "(0.9375003, 0.74239683)\n",
      "Velocity X:  0.041499953770688415\n",
      "Velocity y:  0.0018841866658500445\n",
      "(0.90440273, 0.7086101)\n",
      "Velocity X:  -0.3680337012070625\n",
      "Velocity y:  -0.37569680331382943\n",
      "(0.90220666, 0.7040359)\n",
      "Velocity X:  -0.023232063537587732\n",
      "Velocity y:  -0.048390463903623254\n",
      "(0.93624145, 0.7414006)\n",
      "Velocity X:  0.3682071774793749\n",
      "Velocity y:  0.4042322320481124\n",
      "(0.9357209, 0.7438878)\n",
      "Velocity X:  -0.0056783791444713645\n",
      "Velocity y:  0.027132417833562475\n",
      "(0.9008843, 0.7104899)\n",
      "Velocity X:  -0.3586017088748913\n",
      "Velocity y:  -0.3437910169042739\n",
      "(0.90184015, 0.7114408)\n",
      "Velocity X:  0.010706357848993427\n",
      "Velocity y:  0.010650279152272379\n",
      "(0.8965099, 0.70864403)\n",
      "Velocity X:  -0.055974945556791146\n",
      "Velocity y:  -0.029369836798905858\n",
      "(0.89264387, 0.7027652)\n",
      "Velocity X:  -0.041624185253747385\n",
      "Velocity y:  -0.0632952527956261\n",
      "(0.8973009, 0.714846)\n",
      "Velocity X:  0.05056136217942632\n",
      "Velocity y:  0.13116108648505717\n",
      "(0.9353496, 0.7399369)\n",
      "Velocity X:  0.4088842671944644\n",
      "Velocity y:  0.2696351641915588\n",
      "(0.9758457, 0.7677853)\n",
      "Velocity X:  0.442859715099451\n",
      "Velocity y:  0.3045463919227956\n",
      "(0.9363716, 0.74072045)\n",
      "Velocity X:  -0.42934925618194264\n",
      "Velocity y:  -0.2943774845451643\n",
      "(0.951605, 0.7611712)\n",
      "Velocity X:  0.16154837081748652\n",
      "Velocity y:  0.21687799567278107\n",
      "(0.99503976, 0.9108721)\n",
      "Velocity X:  0.4448525848742503\n",
      "Velocity y:  1.5332156888396704\n",
      "(0.9765876, 0.77522594)\n",
      "Velocity X:  -0.20061631998335358\n",
      "Velocity y:  -1.474777112718417\n",
      "(0.94263047, 0.7469498)\n",
      "Velocity X:  -0.35676967659650916\n",
      "Velocity y:  -0.2970826193317272\n",
      "(0.8227243, 0.72139764)\n",
      "Velocity X:  -1.3869282349353016\n",
      "Velocity y:  -0.2955560854978566\n",
      "(0.7653268, 0.722402)\n",
      "Velocity X:  -0.5999571939664402\n",
      "Velocity y:  0.010498020414275125\n",
      "(0.84059983, 0.18300095)\n",
      "Velocity X:  0.7704065781159991\n",
      "Velocity y:  -5.520676956044868\n",
      "(0.9353831, 0.73923963)\n",
      "Velocity X:  0.9389127934291828\n",
      "Velocity y:  5.51004112090439\n",
      "(0.8575485, 0.19851142)\n",
      "Velocity X:  -0.8274476317038781\n",
      "Velocity y:  -5.7483977877373595\n",
      "(0.6161354, 0.49728417)\n",
      "Velocity X:  -2.673559405016982\n",
      "Velocity y:  3.3087966005470295\n",
      "(0.6165146, 0.51165557)\n",
      "Velocity X:  0.0040387591415363975\n",
      "Velocity y:  0.15306401982617476\n",
      "(0.7688033, 0.71615577)\n",
      "Velocity X:  1.665318077883093\n",
      "Velocity y:  2.236265280904168\n",
      "(0.90312386, 0.70430493)\n",
      "Velocity X:  1.4011355190113934\n",
      "Velocity y:  -0.1236193822708518\n",
      "(0.90158206, 0.702327)\n",
      "Velocity X:  -0.01594258809955242\n",
      "Velocity y:  -0.020452269049195792\n",
      "(0.9402017, 0.74103564)\n",
      "Velocity X:  0.4367931872577574\n",
      "Velocity y:  0.43779967287900634\n",
      "(0.9410466, 0.742367)\n",
      "Velocity X:  0.008532732766393304\n",
      "Velocity y:  0.013445901361758534\n",
      "(0.94187653, 0.74207103)\n",
      "Velocity X:  0.008234397809620854\n",
      "Velocity y:  -0.002936801172262077\n",
      "(0.95626694, 0.7701374)\n",
      "Velocity X:  0.1558386838756173\n",
      "Velocity y:  0.3039406543012918\n"
     ]
    }
   ],
   "source": [
    "target_width = 256\n",
    "target_height = 256\n",
    "\n",
    "cap = cv2.VideoCapture(0)\n",
    "\n",
    "cap.set(cv2.CAP_PROP_FRAME_WIDTH, 640)\n",
    "cap.set(cv2.CAP_PROP_FRAME_HEIGHT, 480)\n",
    "\n",
    "last_position = None\n",
    "last_time = None\n",
    "\n",
    "maxVelocity_x = 0\n",
    "maxVelocity_y = 0\n",
    "\n",
    "while cap.isOpened():\n",
    "    ret,frame = cap.read()\n",
    "    frame_resized = cv2.resize(frame, (target_width, target_height))\n",
    "    \n",
    "    # Reshape Image\n",
    "    img = frame_resized.copy()\n",
    "    img = tf.image.resize_with_pad(np.expand_dims(img,axis=0),256,256)\n",
    "#     img = tf.image.resize_with_pad(tf.expand_dims(img,axis=0),192,256)\n",
    "    input_image = tf.cast(img,dtype=tf.float32)\n",
    "    \n",
    "    # Setup input and output\n",
    "    input_details = interpreter.get_input_details()\n",
    "    output_details = interpreter.get_output_details()\n",
    "    \n",
    "    # Make predictions\n",
    "    interpreter.set_tensor(input_details[0]['index'],np.array(input_image))\n",
    "    interpreter.invoke()\n",
    "    keypoints_with_scores = interpreter.get_tensor(output_details[0]['index'])\n",
    "    keypoints = keypoints_with_scores.reshape((-1, 3))[:, :2]\n",
    "#     print(keypoints_with_scores)\n",
    "    \n",
    "    \n",
    "    # Velocity\n",
    "    left_wrist_x, left_wrist_y = keypoints[9][1], keypoints[9][0]\n",
    "    if last_position is None:\n",
    "            last_position = [left_wrist_x, left_wrist_y]\n",
    "            last_time = cv2.getTickCount() / cv2.getTickFrequency()\n",
    "            continue\n",
    "\n",
    "    # Calculate the time interval since the last frame\n",
    "    current_time = cv2.getTickCount() / cv2.getTickFrequency()\n",
    "    time_interval = current_time - last_time\n",
    "    last_time = current_time\n",
    "\n",
    "    # Calculate the velocity of the person's nose\n",
    "    position = (left_wrist_x, left_wrist_y)\n",
    "    delta_x = position[0] - last_position[0]\n",
    "    delta_y = position[1] - last_position[1]\n",
    "    last_position = position\n",
    "    print(last_position)\n",
    "    velocity_x = delta_x / time_interval\n",
    "    velocity_y = delta_y / time_interval\n",
    "    \n",
    "    maxVelocity_x = max(maxVelocity_x,abs(velocity_x))\n",
    "    maxVelocity_y = max(maxVelocity_y,abs(velocity_y))\n",
    "    \n",
    "    print(\"Velocity X: \",velocity_x)\n",
    "    print(\"Velocity y: \",velocity_y)\n",
    "    \n",
    "    \n",
    "    \n",
    "    # cv2.putText(frame, f'Max Speed: ({maxVelocity_x:.2f}, {maxVelocity_y:.2f})', (10, 30),\n",
    "    #                 cv2.FONT_HERSHEY_SIMPLEX, 1, (0, 255, 0), 2, cv2.LINE_AA)\n",
    "    # cv2.putText(frame, f'Velocity: ({velocity_x:.2f}, {velocity_y:.2f})', (10, 60),\n",
    "    #                 cv2.FONT_HERSHEY_SIMPLEX, 1, (0, 255, 0), 2, cv2.LINE_AA)\n",
    "#     cv2.imshow('frame', frame)\n",
    "    \n",
    "    \n",
    "    draw_connections(frame,keypoints_with_scores,EDGES, 0.4)\n",
    "    draw_keypoints(frame,keypoints_with_scores, 0.4)\n",
    "    \n",
    "    \n",
    "    cv2.imshow('Movenet Lighting',frame)\n",
    "    \n",
    "    if cv2.waitKey(10) & 0xFF==ord('q'):\n",
    "        break\n",
    "        \n",
    "        \n",
    "cap.release()\n",
    "cv2.destroyAllWindows()"
   ]
  },
  {
   "cell_type": "code",
   "execution_count": 49,
   "id": "0dddfbee",
   "metadata": {},
   "outputs": [
    {
     "data": {
      "text/plain": [
       "(480, 640, 3)"
      ]
     },
     "execution_count": 49,
     "metadata": {},
     "output_type": "execute_result"
    }
   ],
   "source": [
    "frame.shape"
   ]
  },
  {
   "cell_type": "code",
   "execution_count": null,
   "id": "d4354250",
   "metadata": {},
   "outputs": [],
   "source": []
  }
 ],
 "metadata": {
  "kernelspec": {
   "display_name": "Python 3 (ipykernel)",
   "language": "python",
   "name": "python3"
  },
  "language_info": {
   "codemirror_mode": {
    "name": "ipython",
    "version": 3
   },
   "file_extension": ".py",
   "mimetype": "text/x-python",
   "name": "python",
   "nbconvert_exporter": "python",
   "pygments_lexer": "ipython3",
   "version": "3.10.6"
  }
 },
 "nbformat": 4,
 "nbformat_minor": 5
}
